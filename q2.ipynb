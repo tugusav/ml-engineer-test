{
 "cells": [
  {
   "cell_type": "markdown",
   "metadata": {},
   "source": [
    "# Importing Libraries"
   ]
  },
  {
   "cell_type": "code",
   "execution_count": 5,
   "metadata": {},
   "outputs": [],
   "source": [
    "import fitz\n",
    "import pandas as pd\n",
    "import numpy as np"
   ]
  },
  {
   "cell_type": "code",
   "execution_count": 141,
   "metadata": {},
   "outputs": [],
   "source": [
    "pdf = fitz.open('Q2.pdf')"
   ]
  },
  {
   "cell_type": "markdown",
   "metadata": {},
   "source": [
    "# Extracting Data"
   ]
  },
  {
   "cell_type": "code",
   "execution_count": 113,
   "metadata": {},
   "outputs": [],
   "source": [
    "def extract_text(page_blocks):\n",
    "    # since the only attributes we need is up to row number 4 and column number 6, hence\n",
    "    all_text = [b[4] for b in page_blocks[:6]]\n",
    "\n",
    "    cleaned_text = []\n",
    "\n",
    "    for sub in all_text:\n",
    "        # check if the text is Description\n",
    "        if sub[:11] == \"Description\":\n",
    "            # split between column title and the description itself\n",
    "            cleaned_text.append('Description')\n",
    "            cleaned_text.append(sub[11:].replace(\"\\n\", \" \").strip())\n",
    "        else:    \n",
    "            cleaned_text.append(sub.replace(\"\\n\", \" \").strip())\n",
    "    \n",
    "    return cleaned_text"
   ]
  },
  {
   "cell_type": "code",
   "execution_count": 103,
   "metadata": {},
   "outputs": [],
   "source": [
    "def convert_to_dict(cleaned):\n",
    "    output_dict = {\n",
    "        'Description': cleaned[4],\n",
    "        'Possible Root Cause': cleaned[6],\n",
    "        'Page Number': cleaned[1]\n",
    "    }\n",
    "    return output_dict\n"
   ]
  },
  {
   "cell_type": "markdown",
   "metadata": {},
   "source": [
    "# Main Function"
   ]
  },
  {
   "cell_type": "code",
   "execution_count": 142,
   "metadata": {},
   "outputs": [],
   "source": [
    "def extract_all_pages(pdf):\n",
    "    \n",
    "    dict_all = []\n",
    "    for i in range(len(pdf)):\n",
    "        page = pdf[i]\n",
    "        blocks = page.get_text(\"blocks\")\n",
    "\n",
    "        cleaned_text = extract_text(blocks)\n",
    "        dict_output = convert_to_dict(cleaned_text)\n",
    "        dict_all.append(dict_output)\n",
    "\n",
    "    df = pd.DataFrame.from_dict(dict_all)\n",
    "    df.to_csv('q2.csv', index=False)"
   ]
  },
  {
   "cell_type": "code",
   "execution_count": 143,
   "metadata": {},
   "outputs": [],
   "source": [
    "extract_all_pages(pdf)"
   ]
  }
 ],
 "metadata": {
  "kernelspec": {
   "display_name": "Python 3 (ipykernel)",
   "language": "python",
   "name": "python3"
  },
  "language_info": {
   "codemirror_mode": {
    "name": "ipython",
    "version": 3
   },
   "file_extension": ".py",
   "mimetype": "text/x-python",
   "name": "python",
   "nbconvert_exporter": "python",
   "pygments_lexer": "ipython3",
   "version": "3.9.13"
  },
  "vscode": {
   "interpreter": {
    "hash": "81794d4967e6c3204c66dcd87b604927b115b27c00565d3d43f05ba2f3a2cb0d"
   }
  }
 },
 "nbformat": 4,
 "nbformat_minor": 2
}
